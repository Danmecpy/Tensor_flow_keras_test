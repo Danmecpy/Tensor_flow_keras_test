{
 "cells": [
  {
   "cell_type": "markdown",
   "metadata": {},
   "source": [
    "## Definir o Problema e o Objetivo\n",
    "\n",
    "#### O objetivo aqui é criar um modelo que classifique imagens de dígitos de 0 a 9. Vamos usar o conjunto de dados MNIST, que já está disponível no TensorFlow."
   ]
  },
  {
   "cell_type": "code",
   "execution_count": 2,
   "metadata": {},
   "outputs": [],
   "source": [
    "import tensorflow as tf\n",
    "import pandas as pd\n",
    "from tensorflow.keras.models import Sequential\n",
    "from tensorflow.keras.layers import Dense, Flatten\n",
    "from tensorflow.keras.utils import to_categorical\n",
    "from sklearn.metrics import classification_report\n",
    "from tabulate import tabulate "
   ]
  },
  {
   "cell_type": "markdown",
   "metadata": {},
   "source": [
    "## Coletar e Preparar os Dados\n",
    "\n",
    "#### Carregar o Conjunto de Dados: O conjunto de dados MNIST já está disponível no TensorFlow, então basta carregá-lo."
   ]
  },
  {
   "cell_type": "code",
   "execution_count": null,
   "metadata": {},
   "outputs": [
    {
     "name": "stdout",
     "output_type": "stream",
     "text": [
      "Downloading data from https://storage.googleapis.com/tensorflow/tf-keras-datasets/mnist.npz\n",
      "\u001b[1m11490434/11490434\u001b[0m \u001b[32m━━━━━━━━━━━━━━━━━━━━\u001b[0m\u001b[37m\u001b[0m \u001b[1m1s\u001b[0m 0us/step\n"
     ]
    }
   ],
   "source": [
    "pd.options.display.float_format = \"{:,.2f}\".format\n",
    "\n",
    "(train_images, train_labels), (test_images, test_labels) = tf.keras.datasets.mnist.load_data()\n"
   ]
  },
  {
   "cell_type": "code",
   "execution_count": 9,
   "metadata": {},
   "outputs": [
    {
     "name": "stdout",
     "output_type": "stream",
     "text": [
      "Exemplo de rótulos de treinamento (primeiros 10):\n",
      "+----+---------+\n",
      "|    |   Label |\n",
      "+====+=========+\n",
      "|  0 |       5 |\n",
      "+----+---------+\n",
      "|  1 |       0 |\n",
      "+----+---------+\n",
      "|  2 |       4 |\n",
      "+----+---------+\n",
      "|  3 |       1 |\n",
      "+----+---------+\n",
      "|  4 |       9 |\n",
      "+----+---------+\n",
      "|  5 |       2 |\n",
      "+----+---------+\n",
      "|  6 |       1 |\n",
      "+----+---------+\n",
      "|  7 |       3 |\n",
      "+----+---------+\n",
      "|  8 |       1 |\n",
      "+----+---------+\n",
      "|  9 |       4 |\n",
      "+----+---------+\n"
     ]
    }
   ],
   "source": [
    "train_labels_df = pd.DataFrame({'Label': train_labels[:10]})\n",
    "print(\"Exemplo de rótulos de treinamento (primeiros 10):\")\n",
    "print(tabulate(train_labels_df, headers=\"keys\", tablefmt=\"grid\"))"
   ]
  },
  {
   "cell_type": "code",
   "execution_count": 10,
   "metadata": {},
   "outputs": [
    {
     "name": "stdout",
     "output_type": "stream",
     "text": [
      "\n",
      "Rótulos após one-hot encoding (primeiros 10):\n",
      "+----+-----------+-----------+-----------+-----------+-----------+-----------+-----------+-----------+-----------+-----------+\n",
      "|    |   Class 0 |   Class 1 |   Class 2 |   Class 3 |   Class 4 |   Class 5 |   Class 6 |   Class 7 |   Class 8 |   Class 9 |\n",
      "+====+===========+===========+===========+===========+===========+===========+===========+===========+===========+===========+\n",
      "|  0 |         0 |         0 |         0 |         0 |         0 |         1 |         0 |         0 |         0 |         0 |\n",
      "+----+-----------+-----------+-----------+-----------+-----------+-----------+-----------+-----------+-----------+-----------+\n",
      "|  1 |         1 |         0 |         0 |         0 |         0 |         0 |         0 |         0 |         0 |         0 |\n",
      "+----+-----------+-----------+-----------+-----------+-----------+-----------+-----------+-----------+-----------+-----------+\n",
      "|  2 |         0 |         0 |         0 |         0 |         1 |         0 |         0 |         0 |         0 |         0 |\n",
      "+----+-----------+-----------+-----------+-----------+-----------+-----------+-----------+-----------+-----------+-----------+\n",
      "|  3 |         0 |         1 |         0 |         0 |         0 |         0 |         0 |         0 |         0 |         0 |\n",
      "+----+-----------+-----------+-----------+-----------+-----------+-----------+-----------+-----------+-----------+-----------+\n",
      "|  4 |         0 |         0 |         0 |         0 |         0 |         0 |         0 |         0 |         0 |         1 |\n",
      "+----+-----------+-----------+-----------+-----------+-----------+-----------+-----------+-----------+-----------+-----------+\n",
      "|  5 |         0 |         0 |         1 |         0 |         0 |         0 |         0 |         0 |         0 |         0 |\n",
      "+----+-----------+-----------+-----------+-----------+-----------+-----------+-----------+-----------+-----------+-----------+\n",
      "|  6 |         0 |         1 |         0 |         0 |         0 |         0 |         0 |         0 |         0 |         0 |\n",
      "+----+-----------+-----------+-----------+-----------+-----------+-----------+-----------+-----------+-----------+-----------+\n",
      "|  7 |         0 |         0 |         0 |         1 |         0 |         0 |         0 |         0 |         0 |         0 |\n",
      "+----+-----------+-----------+-----------+-----------+-----------+-----------+-----------+-----------+-----------+-----------+\n",
      "|  8 |         0 |         1 |         0 |         0 |         0 |         0 |         0 |         0 |         0 |         0 |\n",
      "+----+-----------+-----------+-----------+-----------+-----------+-----------+-----------+-----------+-----------+-----------+\n",
      "|  9 |         0 |         0 |         0 |         0 |         1 |         0 |         0 |         0 |         0 |         0 |\n",
      "+----+-----------+-----------+-----------+-----------+-----------+-----------+-----------+-----------+-----------+-----------+\n"
     ]
    }
   ],
   "source": [
    "# 3. Normalizar as imagens dividindo os valores por 255.0 para ficar entre 0 e 1\n",
    "train_images = train_images / 255.0\n",
    "test_images = test_images / 255.0\n",
    "\n",
    "# 4. Converter os rótulos para o formato 'one-hot encoding'\n",
    "train_labels = to_categorical(train_labels, 10)\n",
    "test_labels = to_categorical(test_labels, 10)\n",
    "\n",
    "labels_df = pd.DataFrame(train_labels[:10], columns=[f\"Class {i}\" for i in range(10)])\n",
    "print(\"\\nRótulos após one-hot encoding (primeiros 10):\")\n",
    "print(tabulate(labels_df, headers=\"keys\", tablefmt=\"grid\"))"
   ]
  },
  {
   "cell_type": "markdown",
   "metadata": {},
   "source": [
    "## Definir Modelo \n",
    "#### Vamos criar uma rede neural com três camadas para processar as imagens.\n",
    "\n"
   ]
  },
  {
   "cell_type": "code",
   "execution_count": 11,
   "metadata": {},
   "outputs": [
    {
     "name": "stderr",
     "output_type": "stream",
     "text": [
      "c:\\Users\\danme\\AppData\\Local\\Programs\\Python\\Python312\\Lib\\site-packages\\keras\\src\\layers\\reshaping\\flatten.py:37: UserWarning: Do not pass an `input_shape`/`input_dim` argument to a layer. When using Sequential models, prefer using an `Input(shape)` object as the first layer in the model instead.\n",
      "  super().__init__(**kwargs)\n"
     ]
    }
   ],
   "source": [
    "model = Sequential([\n",
    "    Flatten(input_shape=(28, 28)),  # Achata a imagem de 28x28 pixels em uma linha com 784 valores\n",
    "    Dense(128, activation='relu'),  # Camada escondida com 128 neurônios e função de ativação 'relu'\n",
    "    Dense(64, activation='relu'),   # Outra camada escondida com 64 neurônios e função de ativação 'relu'\n",
    "    Dense(10, activation='softmax') # Camada de saída com 10 neurônios (um para cada dígito de 0 a 9) e função 'softmax'\n",
    "])"
   ]
  },
  {
   "cell_type": "code",
   "execution_count": 12,
   "metadata": {},
   "outputs": [
    {
     "name": "stdout",
     "output_type": "stream",
     "text": [
      "Epoch 1/3\n",
      "\u001b[1m1688/1688\u001b[0m \u001b[32m━━━━━━━━━━━━━━━━━━━━\u001b[0m\u001b[37m\u001b[0m \u001b[1m8s\u001b[0m 4ms/step - accuracy: 0.8673 - loss: 0.4556 - val_accuracy: 0.9665 - val_loss: 0.1116\n",
      "Epoch 2/3\n",
      "\u001b[1m1688/1688\u001b[0m \u001b[32m━━━━━━━━━━━━━━━━━━━━\u001b[0m\u001b[37m\u001b[0m \u001b[1m5s\u001b[0m 3ms/step - accuracy: 0.9672 - loss: 0.1100 - val_accuracy: 0.9748 - val_loss: 0.0821\n",
      "Epoch 3/3\n",
      "\u001b[1m1688/1688\u001b[0m \u001b[32m━━━━━━━━━━━━━━━━━━━━\u001b[0m\u001b[37m\u001b[0m \u001b[1m6s\u001b[0m 3ms/step - accuracy: 0.9756 - loss: 0.0766 - val_accuracy: 0.9772 - val_loss: 0.0761\n",
      "\u001b[1m313/313\u001b[0m \u001b[32m━━━━━━━━━━━━━━━━━━━━\u001b[0m\u001b[37m\u001b[0m \u001b[1m1s\u001b[0m 2ms/step - accuracy: 0.9717 - loss: 0.0966\n",
      "\n",
      "Acurácia no conjunto de teste: 97.46%\n"
     ]
    }
   ],
   "source": [
    "# 7. Compilar o modelo\n",
    "model.compile(optimizer='adam', loss='categorical_crossentropy', metrics=['accuracy'])\n",
    "\n",
    "# 8. Treinar o modelo com os dados de treinamento\n",
    "history = model.fit(train_images, train_labels, epochs=3, validation_split=0.1)\n",
    "\n",
    "# 9. Avaliar o modelo nos dados de teste\n",
    "test_loss, test_acc = model.evaluate(test_images, test_labels)\n",
    "print(f\"\\nAcurácia no conjunto de teste: {test_acc:.2%}\")"
   ]
  },
  {
   "cell_type": "code",
   "execution_count": 14,
   "metadata": {},
   "outputs": [
    {
     "name": "stdout",
     "output_type": "stream",
     "text": [
      "\u001b[1m313/313\u001b[0m \u001b[32m━━━━━━━━━━━━━━━━━━━━\u001b[0m\u001b[37m\u001b[0m \u001b[1m1s\u001b[0m 2ms/step\n",
      "\n",
      "Exemplo de previsões (primeiros 10):\n",
      "+----+-------------+-------------+-------------+-------------+-------------+-------------+-------------+-------------+-------------+-------------+\n",
      "|    |     Class 0 |     Class 1 |     Class 2 |     Class 3 |     Class 4 |     Class 5 |     Class 6 |     Class 7 |     Class 8 |     Class 9 |\n",
      "+====+=============+=============+=============+=============+=============+=============+=============+=============+=============+=============+\n",
      "|  0 | 2.96699e-08 | 6.64009e-07 | 1.37108e-05 | 0.000497702 | 7.11443e-10 | 9.0434e-08  | 1.15235e-12 | 0.999478    | 1.09916e-06 | 8.24503e-06 |\n",
      "+----+-------------+-------------+-------------+-------------+-------------+-------------+-------------+-------------+-------------+-------------+\n",
      "|  1 | 3.11693e-08 | 0.00293064  | 0.997068    | 7.18085e-07 | 1.15433e-12 | 2.23692e-09 | 4.8989e-08  | 1.01151e-09 | 3.61039e-07 | 3.11616e-11 |\n",
      "+----+-------------+-------------+-------------+-------------+-------------+-------------+-------------+-------------+-------------+-------------+\n",
      "|  2 | 3.31986e-06 | 0.998268    | 3.24579e-05 | 3.83652e-06 | 0.00011375  | 1.73273e-05 | 5.359e-05   | 0.000506649 | 0.000966854 | 3.37643e-05 |\n",
      "+----+-------------+-------------+-------------+-------------+-------------+-------------+-------------+-------------+-------------+-------------+\n",
      "|  3 | 0.999152    | 1.79747e-06 | 0.000702076 | 1.70305e-06 | 5.1442e-06  | 4.01678e-05 | 7.50596e-05 | 5.50255e-06 | 2.95951e-06 | 1.35654e-05 |\n",
      "+----+-------------+-------------+-------------+-------------+-------------+-------------+-------------+-------------+-------------+-------------+\n",
      "|  4 | 2.86054e-06 | 1.14643e-07 | 2.19896e-06 | 1.97996e-07 | 0.99722     | 3.4524e-07  | 1.09248e-06 | 0.00108474  | 1.11502e-06 | 0.00168737  |\n",
      "+----+-------------+-------------+-------------+-------------+-------------+-------------+-------------+-------------+-------------+-------------+\n",
      "|  5 | 2.25993e-08 | 0.999677    | 2.27661e-07 | 7.24714e-08 | 4.54335e-05 | 1.56523e-07 | 2.31997e-07 | 0.000262237 | 1.09861e-05 | 3.96773e-06 |\n",
      "+----+-------------+-------------+-------------+-------------+-------------+-------------+-------------+-------------+-------------+-------------+\n",
      "|  6 | 1.00565e-07 | 2.13758e-05 | 1.64031e-07 | 5.33338e-06 | 0.992323    | 1.0277e-05  | 5.2151e-08  | 0.000580282 | 0.00560108  | 0.00145807  |\n",
      "+----+-------------+-------------+-------------+-------------+-------------+-------------+-------------+-------------+-------------+-------------+\n",
      "|  7 | 1.3182e-07  | 1.24311e-05 | 3.72437e-06 | 0.00106571  | 0.00168094  | 1.4944e-05  | 6.5015e-09  | 0.000947765 | 1.01959e-06 | 0.996273    |\n",
      "+----+-------------+-------------+-------------+-------------+-------------+-------------+-------------+-------------+-------------+-------------+\n",
      "|  8 | 7.53328e-07 | 3.04888e-06 | 8.24031e-06 | 1.04595e-05 | 0.00176148  | 0.693566    | 0.301601    | 3.45821e-08 | 0.00281477  | 0.000233988 |\n",
      "+----+-------------+-------------+-------------+-------------+-------------+-------------+-------------+-------------+-------------+-------------+\n",
      "|  9 | 1.28753e-07 | 1.23814e-07 | 6.32904e-10 | 2.43135e-06 | 0.000494034 | 5.31077e-08 | 4.21754e-11 | 0.000657394 | 7.72997e-05 | 0.998769    |\n",
      "+----+-------------+-------------+-------------+-------------+-------------+-------------+-------------+-------------+-------------+-------------+\n",
      "\n",
      "Relatório de Classificação:\n",
      "+--------------+-------------+----------+------------+------------+\n",
      "|              |   precision |   recall |   f1-score |    support |\n",
      "+==============+=============+==========+============+============+\n",
      "| 0            |    0.976673 | 0.982653 |   0.979654 |   980      |\n",
      "+--------------+-------------+----------+------------+------------+\n",
      "| 1            |    0.986026 | 0.994714 |   0.990351 |  1135      |\n",
      "+--------------+-------------+----------+------------+------------+\n",
      "| 2            |    0.976494 | 0.966085 |   0.971262 |  1032      |\n",
      "+--------------+-------------+----------+------------+------------+\n",
      "| 3            |    0.96572  | 0.976238 |   0.97095  |  1010      |\n",
      "+--------------+-------------+----------+------------+------------+\n",
      "| 4            |    0.969574 | 0.973523 |   0.971545 |   982      |\n",
      "+--------------+-------------+----------+------------+------------+\n",
      "| 5            |    0.985092 | 0.963004 |   0.973923 |   892      |\n",
      "+--------------+-------------+----------+------------+------------+\n",
      "| 6            |    0.98218  | 0.978079 |   0.980126 |   958      |\n",
      "+--------------+-------------+----------+------------+------------+\n",
      "| 7            |    0.96099  | 0.98249  |   0.971621 |  1028      |\n",
      "+--------------+-------------+----------+------------+------------+\n",
      "| 8            |    0.973931 | 0.958932 |   0.966374 |   974      |\n",
      "+--------------+-------------+----------+------------+------------+\n",
      "| 9            |    0.970149 | 0.966303 |   0.968222 |  1009      |\n",
      "+--------------+-------------+----------+------------+------------+\n",
      "| accuracy     |    0.9746   | 0.9746   |   0.9746   |     0.9746 |\n",
      "+--------------+-------------+----------+------------+------------+\n",
      "| macro avg    |    0.974683 | 0.974202 |   0.974403 | 10000      |\n",
      "+--------------+-------------+----------+------------+------------+\n",
      "| weighted avg |    0.974654 | 0.9746   |   0.974588 | 10000      |\n",
      "+--------------+-------------+----------+------------+------------+\n"
     ]
    }
   ],
   "source": [
    "\n",
    "predictions = model.predict(test_images)\n",
    "predictions_df = pd.DataFrame(predictions[:10], columns=[f\"Class {i}\" for i in range(10)])\n",
    "print(\"\\nExemplo de previsões (primeiros 10):\")\n",
    "print(tabulate(predictions_df, headers=\"keys\", tablefmt=\"grid\"))\n",
    "\n",
    "# 11. Mostrar um relatório de classificação detalhado\n",
    "predicted_classes = predictions.argmax(axis=1)\n",
    "true_classes = test_labels.argmax(axis=1)\n",
    "report = classification_report(true_classes, predicted_classes, output_dict=True)\n",
    "report_df = pd.DataFrame(report).transpose()\n",
    "print(\"\\nRelatório de Classificação:\")\n",
    "print(tabulate(report_df, headers=\"keys\", tablefmt=\"grid\"))"
   ]
  },
  {
   "cell_type": "markdown",
   "metadata": {},
   "source": [
    "## Avaliar o Modelo\n",
    "#### Depois do treinamento, vamos ver como o modelo se sai com os dados de teste."
   ]
  },
  {
   "cell_type": "code",
   "execution_count": null,
   "metadata": {},
   "outputs": [
    {
     "name": "stdout",
     "output_type": "stream",
     "text": [
      "\u001b[1m313/313\u001b[0m \u001b[32m━━━━━━━━━━━━━━━━━━━━\u001b[0m\u001b[37m\u001b[0m \u001b[1m1s\u001b[0m 3ms/step - accuracy: 0.9753 - loss: 0.1026\n",
      "Acurácia no conjunto de teste: 0.9782999753952026\n"
     ]
    }
   ],
   "source": [
    "test_loss, test_acc = model.evaluate(test_images, test_labels)\n",
    "print(\"Acurácia no conjunto de teste:\", test_acc)\n"
   ]
  },
  {
   "cell_type": "code",
   "execution_count": 10,
   "metadata": {},
   "outputs": [
    {
     "name": "stdout",
     "output_type": "stream",
     "text": [
      "\u001b[1m313/313\u001b[0m \u001b[32m━━━━━━━━━━━━━━━━━━━━\u001b[0m\u001b[37m\u001b[0m \u001b[1m1s\u001b[0m 3ms/step\n",
      "              precision    recall  f1-score   support\n",
      "\n",
      "           0       0.99      0.99      0.99       980\n",
      "           1       0.99      0.99      0.99      1135\n",
      "           2       0.97      0.98      0.97      1032\n",
      "           3       0.99      0.97      0.98      1010\n",
      "           4       0.97      0.99      0.98       982\n",
      "           5       0.97      0.97      0.97       892\n",
      "           6       0.98      0.98      0.98       958\n",
      "           7       0.98      0.96      0.97      1028\n",
      "           8       0.95      0.98      0.97       974\n",
      "           9       0.98      0.98      0.98      1009\n",
      "\n",
      "    accuracy                           0.98     10000\n",
      "   macro avg       0.98      0.98      0.98     10000\n",
      "weighted avg       0.98      0.98      0.98     10000\n",
      "\n"
     ]
    }
   ],
   "source": [
    "predictions = model.predict(test_images)\n",
    "print(classification_report(test_labels.argmax(axis=1), predictions.argmax(axis=1)))\n"
   ]
  }
 ],
 "metadata": {
  "kernelspec": {
   "display_name": "Python 3",
   "language": "python",
   "name": "python3"
  },
  "language_info": {
   "codemirror_mode": {
    "name": "ipython",
    "version": 3
   },
   "file_extension": ".py",
   "mimetype": "text/x-python",
   "name": "python",
   "nbconvert_exporter": "python",
   "pygments_lexer": "ipython3",
   "version": "3.12.1"
  }
 },
 "nbformat": 4,
 "nbformat_minor": 2
}
