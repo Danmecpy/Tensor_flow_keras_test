{
 "cells": [
  {
   "cell_type": "markdown",
   "metadata": {},
   "source": [
    "## Definir o Problema e o Objetivo\n",
    "\n",
    "#### O objetivo aqui é criar um modelo que classifique imagens de dígitos de 0 a 9. Vamos usar o conjunto de dados MNIST, que já está disponível no TensorFlow."
   ]
  },
  {
   "cell_type": "code",
   "execution_count": 2,
   "metadata": {},
   "outputs": [],
   "source": [
    "import tensorflow as tf\n",
    "import pandas as pd\n",
    "from tensorflow.keras.models import Sequential\n",
    "from tensorflow.keras.layers import Dense, Flatten\n",
    "from tensorflow.keras.utils import to_categorical\n",
    "from sklearn.metrics import classification_report\n",
    "from tabulate import tabulate "
   ]
  },
  {
   "cell_type": "markdown",
   "metadata": {},
   "source": [
    "## Coletar e Preparar os Dados\n",
    "\n",
    "#### Carregar o Conjunto de Dados: O conjunto de dados MNIST já está disponível no TensorFlow, então basta carregá-lo."
   ]
  },
  {
   "cell_type": "code",
   "execution_count": null,
   "metadata": {},
   "outputs": [
    {
     "name": "stdout",
     "output_type": "stream",
     "text": [
      "Downloading data from https://storage.googleapis.com/tensorflow/tf-keras-datasets/mnist.npz\n",
      "\u001b[1m11490434/11490434\u001b[0m \u001b[32m━━━━━━━━━━━━━━━━━━━━\u001b[0m\u001b[37m\u001b[0m \u001b[1m1s\u001b[0m 0us/step\n"
     ]
    }
   ],
   "source": [
    "pd.options.display.float_format = \"{:,.2f}\".format\n",
    "\n",
    "(train_images, train_labels), (test_images, test_labels) = tf.keras.datasets.mnist.load_data()\n"
   ]
  },
  {
   "cell_type": "code",
   "execution_count": null,
   "metadata": {},
   "outputs": [],
   "source": [
    "train_df = pd.DataFrame({\n",
    "    'Label': train_labels[:10],  # Os rótulos (números de 0 a 9) das 10 primeiras imagens\n",
    "    'Image Data': [train_images[i] for i in range(10)]  # Dados das 10 primeiras imagens\n",
    "})\n",
    "print(\"Exemplo de dados de treinamento (primeiros 10):\")\n",
    "print(tabulate(train_df, headers=\"keys\", tablefmt=\"grid\"))  "
   ]
  },
  {
   "cell_type": "code",
   "execution_count": null,
   "metadata": {},
   "outputs": [],
   "source": [
    "# 3. Normalizar as imagens dividindo os valores por 255.0 para ficar entre 0 e 1\n",
    "train_images = train_images / 255.0\n",
    "test_images = test_images / 255.0\n",
    "\n",
    "# 4. Converter os rótulos para o formato 'one-hot encoding'\n",
    "train_labels = to_categorical(train_labels, 10)\n",
    "test_labels = to_categorical(test_labels, 10)\n",
    "\n",
    "labels_df = pd.DataFrame(train_labels[:10], columns=[f\"Class {i}\" for i in range(10)])\n",
    "print(\"\\nRótulos após one-hot encoding (primeiros 10):\")\n",
    "print(tabulate(labels_df, headers=\"keys\", tablefmt=\"grid\"))"
   ]
  },
  {
   "cell_type": "markdown",
   "metadata": {},
   "source": [
    "## Definir Modelo \n",
    "#### Vamos criar uma rede neural com três camadas para processar as imagens.\n",
    "\n"
   ]
  },
  {
   "cell_type": "code",
   "execution_count": null,
   "metadata": {},
   "outputs": [
    {
     "name": "stderr",
     "output_type": "stream",
     "text": [
      "c:\\Users\\danme\\AppData\\Local\\Programs\\Python\\Python312\\Lib\\site-packages\\keras\\src\\layers\\reshaping\\flatten.py:37: UserWarning: Do not pass an `input_shape`/`input_dim` argument to a layer. When using Sequential models, prefer using an `Input(shape)` object as the first layer in the model instead.\n",
      "  super().__init__(**kwargs)\n"
     ]
    }
   ],
   "source": [
    "model = Sequential([\n",
    "    Flatten(input_shape=(28, 28)),  # Achata a imagem de 28x28 pixels em uma linha com 784 valores\n",
    "    Dense(128, activation='relu'),  # Camada escondida com 128 neurônios e função de ativação 'relu'\n",
    "    Dense(64, activation='relu'),   # Outra camada escondida com 64 neurônios e função de ativação 'relu'\n",
    "    Dense(10, activation='softmax') # Camada de saída com 10 neurônios (um para cada dígito de 0 a 9) e função 'softmax'\n",
    "])"
   ]
  },
  {
   "cell_type": "code",
   "execution_count": null,
   "metadata": {},
   "outputs": [],
   "source": [
    "# 7. Compilar o modelo\n",
    "model.compile(optimizer='adam', loss='categorical_crossentropy', metrics=['accuracy'])\n",
    "\n",
    "# 8. Treinar o modelo com os dados de treinamento\n",
    "history = model.fit(train_images, train_labels, epochs=3, validation_split=0.1)\n",
    "\n",
    "# 9. Avaliar o modelo nos dados de teste\n",
    "test_loss, test_acc = model.evaluate(test_images, test_labels)\n",
    "print(f\"\\nAcurácia no conjunto de teste: {test_acc:.2%}\")"
   ]
  },
  {
   "cell_type": "code",
   "execution_count": null,
   "metadata": {},
   "outputs": [
    {
     "name": "stdout",
     "output_type": "stream",
     "text": [
      "Epoch 1/10\n",
      "\u001b[1m1500/1500\u001b[0m \u001b[32m━━━━━━━━━━━━━━━━━━━━\u001b[0m\u001b[37m\u001b[0m \u001b[1m6s\u001b[0m 3ms/step - accuracy: 0.8646 - loss: 0.4593 - val_accuracy: 0.9597 - val_loss: 0.1334\n",
      "Epoch 2/10\n",
      "\u001b[1m1500/1500\u001b[0m \u001b[32m━━━━━━━━━━━━━━━━━━━━\u001b[0m\u001b[37m\u001b[0m \u001b[1m4s\u001b[0m 3ms/step - accuracy: 0.9657 - loss: 0.1146 - val_accuracy: 0.9683 - val_loss: 0.1075\n",
      "Epoch 3/10\n",
      "\u001b[1m1500/1500\u001b[0m \u001b[32m━━━━━━━━━━━━━━━━━━━━\u001b[0m\u001b[37m\u001b[0m \u001b[1m4s\u001b[0m 3ms/step - accuracy: 0.9764 - loss: 0.0737 - val_accuracy: 0.9731 - val_loss: 0.0931\n",
      "Epoch 4/10\n",
      "\u001b[1m1500/1500\u001b[0m \u001b[32m━━━━━━━━━━━━━━━━━━━━\u001b[0m\u001b[37m\u001b[0m \u001b[1m5s\u001b[0m 3ms/step - accuracy: 0.9839 - loss: 0.0523 - val_accuracy: 0.9706 - val_loss: 0.1011\n",
      "Epoch 5/10\n",
      "\u001b[1m1500/1500\u001b[0m \u001b[32m━━━━━━━━━━━━━━━━━━━━\u001b[0m\u001b[37m\u001b[0m \u001b[1m5s\u001b[0m 3ms/step - accuracy: 0.9858 - loss: 0.0440 - val_accuracy: 0.9728 - val_loss: 0.1006\n",
      "Epoch 6/10\n",
      "\u001b[1m1500/1500\u001b[0m \u001b[32m━━━━━━━━━━━━━━━━━━━━\u001b[0m\u001b[37m\u001b[0m \u001b[1m4s\u001b[0m 3ms/step - accuracy: 0.9875 - loss: 0.0350 - val_accuracy: 0.9749 - val_loss: 0.0944\n",
      "Epoch 7/10\n",
      "\u001b[1m1500/1500\u001b[0m \u001b[32m━━━━━━━━━━━━━━━━━━━━\u001b[0m\u001b[37m\u001b[0m \u001b[1m4s\u001b[0m 3ms/step - accuracy: 0.9913 - loss: 0.0258 - val_accuracy: 0.9746 - val_loss: 0.0979\n",
      "Epoch 8/10\n",
      "\u001b[1m1500/1500\u001b[0m \u001b[32m━━━━━━━━━━━━━━━━━━━━\u001b[0m\u001b[37m\u001b[0m \u001b[1m6s\u001b[0m 4ms/step - accuracy: 0.9929 - loss: 0.0218 - val_accuracy: 0.9761 - val_loss: 0.1049\n",
      "Epoch 9/10\n",
      "\u001b[1m1500/1500\u001b[0m \u001b[32m━━━━━━━━━━━━━━━━━━━━\u001b[0m\u001b[37m\u001b[0m \u001b[1m4s\u001b[0m 3ms/step - accuracy: 0.9940 - loss: 0.0184 - val_accuracy: 0.9739 - val_loss: 0.1089\n",
      "Epoch 10/10\n",
      "\u001b[1m1500/1500\u001b[0m \u001b[32m━━━━━━━━━━━━━━━━━━━━\u001b[0m\u001b[37m\u001b[0m \u001b[1m4s\u001b[0m 3ms/step - accuracy: 0.9949 - loss: 0.0145 - val_accuracy: 0.9762 - val_loss: 0.1091\n"
     ]
    }
   ],
   "source": [
    " 10. Fazer previsões com o modelo nas primeiras 10 imagens de teste\n",
    "predictions = model.predict(test_images)\n",
    "predictions_df = pd.DataFrame(predictions[:10], columns=[f\"Class {i}\" for i in range(10)])\n",
    "print(\"\\nExemplo de previsões (primeiros 10):\")\n",
    "print(tabulate(predictions_df, headers=\"keys\", tablefmt=\"grid\"))\n",
    "\n",
    "# 11. Mostrar um relatório de classificação detalhado\n",
    "predicted_classes = predictions.argmax(axis=1)\n",
    "true_classes = test_labels.argmax(axis=1)\n",
    "report = classification_report(true_classes, predicted_classes, output_dict=True)\n",
    "report_df = pd.DataFrame(report).transpose()\n",
    "print(\"\\nRelatório de Classificação:\")\n",
    "print(tabulate(report_df, headers=\"keys\", tablefmt=\"grid\"))"
   ]
  },
  {
   "cell_type": "markdown",
   "metadata": {},
   "source": [
    "## Avaliar o Modelo\n",
    "#### Depois do treinamento, vamos ver como o modelo se sai com os dados de teste."
   ]
  },
  {
   "cell_type": "code",
   "execution_count": null,
   "metadata": {},
   "outputs": [
    {
     "name": "stdout",
     "output_type": "stream",
     "text": [
      "\u001b[1m313/313\u001b[0m \u001b[32m━━━━━━━━━━━━━━━━━━━━\u001b[0m\u001b[37m\u001b[0m \u001b[1m1s\u001b[0m 3ms/step - accuracy: 0.9753 - loss: 0.1026\n",
      "Acurácia no conjunto de teste: 0.9782999753952026\n"
     ]
    }
   ],
   "source": [
    "test_loss, test_acc = model.evaluate(test_images, test_labels)\n",
    "print(\"Acurácia no conjunto de teste:\", test_acc)\n"
   ]
  },
  {
   "cell_type": "code",
   "execution_count": 10,
   "metadata": {},
   "outputs": [
    {
     "name": "stdout",
     "output_type": "stream",
     "text": [
      "\u001b[1m313/313\u001b[0m \u001b[32m━━━━━━━━━━━━━━━━━━━━\u001b[0m\u001b[37m\u001b[0m \u001b[1m1s\u001b[0m 3ms/step\n",
      "              precision    recall  f1-score   support\n",
      "\n",
      "           0       0.99      0.99      0.99       980\n",
      "           1       0.99      0.99      0.99      1135\n",
      "           2       0.97      0.98      0.97      1032\n",
      "           3       0.99      0.97      0.98      1010\n",
      "           4       0.97      0.99      0.98       982\n",
      "           5       0.97      0.97      0.97       892\n",
      "           6       0.98      0.98      0.98       958\n",
      "           7       0.98      0.96      0.97      1028\n",
      "           8       0.95      0.98      0.97       974\n",
      "           9       0.98      0.98      0.98      1009\n",
      "\n",
      "    accuracy                           0.98     10000\n",
      "   macro avg       0.98      0.98      0.98     10000\n",
      "weighted avg       0.98      0.98      0.98     10000\n",
      "\n"
     ]
    }
   ],
   "source": [
    "predictions = model.predict(test_images)\n",
    "print(classification_report(test_labels.argmax(axis=1), predictions.argmax(axis=1)))\n"
   ]
  }
 ],
 "metadata": {
  "kernelspec": {
   "display_name": "Python 3",
   "language": "python",
   "name": "python3"
  },
  "language_info": {
   "codemirror_mode": {
    "name": "ipython",
    "version": 3
   },
   "file_extension": ".py",
   "mimetype": "text/x-python",
   "name": "python",
   "nbconvert_exporter": "python",
   "pygments_lexer": "ipython3",
   "version": "3.12.1"
  }
 },
 "nbformat": 4,
 "nbformat_minor": 2
}
