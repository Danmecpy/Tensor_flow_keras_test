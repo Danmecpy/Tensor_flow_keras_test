{
 "cells": [
  {
   "cell_type": "markdown",
   "metadata": {},
   "source": [
    "### Introdução ao Pandas"
   ]
  },
  {
   "cell_type": "markdown",
   "metadata": {},
   "source": [
    "##### O Pandas é uma biblioteca Python usada para análise e manipulação de dados. Ele permite trabalhar com tabelas de dados estruturadas (DataFrames) de forma rápida e eficiente. Abaixo, veremos as funções principais e como usá-las em detalhes."
   ]
  },
  {
   "cell_type": "markdown",
   "metadata": {},
   "source": [
    "## Criando Estruturas de Dados Básicas\n",
    "#### 1. Series\n",
    "##### Uma Series é uma estrutura de dados unidimensional, como uma coluna de dados."
   ]
  },
  {
   "cell_type": "code",
   "execution_count": 17,
   "metadata": {},
   "outputs": [
    {
     "name": "stdout",
     "output_type": "stream",
     "text": [
      "a    10\n",
      "b    20\n",
      "c    30\n",
      "d    40\n",
      "dtype: int64\n"
     ]
    }
   ],
   "source": [
    "import pandas as pd\n",
    "from IPython.display import display\n",
    "\n",
    "\n",
    "data = [10, 20, 30, 40]\n",
    "series = pd.Series(data, index=[\"a\", \"b\", \"c\", \"d\"])\n",
    "print(series)\n"
   ]
  },
  {
   "cell_type": "markdown",
   "metadata": {},
   "source": [
    "#### 2. DataFrame\n",
    "##### Um DataFrame é uma estrutura bidimensional, como uma tabela de dados com linhas e colunas."
   ]
  },
  {
   "cell_type": "code",
   "execution_count": 4,
   "metadata": {},
   "outputs": [
    {
     "name": "stdout",
     "output_type": "stream",
     "text": [
      "      Nome  Idade          Cidade\n",
      "0    Alice     24       São Paulo\n",
      "1      Bob     30  Rio de Janeiro\n",
      "2  Charlie     35  Belo Horizonte\n"
     ]
    }
   ],
   "source": [
    "data = {\n",
    "    \"Nome\": [\"Alice\", \"Bob\", \"Charlie\"],\n",
    "    \"Idade\": [24, 30, 35],\n",
    "    \"Cidade\": [\"São Paulo\", \"Rio de Janeiro\", \"Belo Horizonte\"]\n",
    "}\n",
    "df = pd.DataFrame(data)\n",
    "print(df)\n"
   ]
  },
  {
   "cell_type": "markdown",
   "metadata": {},
   "source": [
    "### Funções e Operações Principais\n",
    "#### 3 Essas funções são úteis para inspecionar dados rapidamente.\n",
    "\n",
    "##### head(): Mostra as primeiras linhas.\n",
    "##### tail(): Mostra as últimas linhas.\n",
    "##### info(): Exibe informações sobre o DataFrame.\n",
    "##### describe(): Exibe estatísticas descritivas."
   ]
  },
  {
   "cell_type": "code",
   "execution_count": 5,
   "metadata": {},
   "outputs": [
    {
     "name": "stdout",
     "output_type": "stream",
     "text": [
      "      Nome  Idade          Cidade\n",
      "0    Alice     24       São Paulo\n",
      "1      Bob     30  Rio de Janeiro\n",
      "2  Charlie     35  Belo Horizonte\n",
      "      Nome  Idade          Cidade\n",
      "0    Alice     24       São Paulo\n",
      "1      Bob     30  Rio de Janeiro\n",
      "2  Charlie     35  Belo Horizonte\n",
      "<class 'pandas.core.frame.DataFrame'>\n",
      "RangeIndex: 3 entries, 0 to 2\n",
      "Data columns (total 3 columns):\n",
      " #   Column  Non-Null Count  Dtype \n",
      "---  ------  --------------  ----- \n",
      " 0   Nome    3 non-null      object\n",
      " 1   Idade   3 non-null      int64 \n",
      " 2   Cidade  3 non-null      object\n",
      "dtypes: int64(1), object(2)\n",
      "memory usage: 204.0+ bytes\n",
      "None\n",
      "           Idade\n",
      "count   3.000000\n",
      "mean   29.666667\n",
      "std     5.507571\n",
      "min    24.000000\n",
      "25%    27.000000\n",
      "50%    30.000000\n",
      "75%    32.500000\n",
      "max    35.000000\n"
     ]
    }
   ],
   "source": [
    "print(df.head())\n",
    "print(df.tail())\n",
    "print(df.info())\n",
    "print(df.describe())\n"
   ]
  },
  {
   "cell_type": "markdown",
   "metadata": {},
   "source": [
    "### Selecionando Colunas\n",
    "\n"
   ]
  },
  {
   "cell_type": "code",
   "execution_count": 6,
   "metadata": {},
   "outputs": [
    {
     "name": "stdout",
     "output_type": "stream",
     "text": [
      "0      Alice\n",
      "1        Bob\n",
      "2    Charlie\n",
      "Name: Nome, dtype: object\n",
      "      Nome  Idade\n",
      "0    Alice     24\n",
      "1      Bob     30\n",
      "2  Charlie     35\n"
     ]
    }
   ],
   "source": [
    "print(df[\"Nome\"])  # Seleciona uma coluna\n",
    "print(df[[\"Nome\", \"Idade\"]])  # Seleciona várias colunas\n"
   ]
  },
  {
   "cell_type": "markdown",
   "metadata": {},
   "source": [
    "### Selecionando Linhas\n",
    "#### iloc[]: Seleção por índice numérico.\n",
    "#### loc[]: Seleção por rótulo ou condição.#"
   ]
  },
  {
   "cell_type": "code",
   "execution_count": 7,
   "metadata": {},
   "outputs": [
    {
     "name": "stdout",
     "output_type": "stream",
     "text": [
      "Nome          Alice\n",
      "Idade            24\n",
      "Cidade    São Paulo\n",
      "Name: 0, dtype: object\n",
      "    Nome  Idade          Cidade\n",
      "0  Alice     24       São Paulo\n",
      "1    Bob     30  Rio de Janeiro\n",
      "      Nome  Idade          Cidade\n",
      "1      Bob     30  Rio de Janeiro\n",
      "2  Charlie     35  Belo Horizonte\n"
     ]
    }
   ],
   "source": [
    "print(df.iloc[0])  # Primeira linha\n",
    "print(df.loc[0:1])  # Linhas com rótulos de 0 a 1\n",
    "print(df.loc[df[\"Idade\"] > 25])  # Linhas onde a idade é maior que 25\n"
   ]
  },
  {
   "cell_type": "markdown",
   "metadata": {},
   "source": [
    "### Adicionando e Removendo Colunas\n",
    "#### Adicionar uma coluna:"
   ]
  },
  {
   "cell_type": "code",
   "execution_count": null,
   "metadata": {},
   "outputs": [
    {
     "name": "stdout",
     "output_type": "stream",
     "text": [
      "      Nome  Idade          Cidade  Salário\n",
      "0    Alice     24       São Paulo     5000\n",
      "1      Bob     30  Rio de Janeiro     6000\n",
      "2  Charlie     35  Belo Horizonte     7000\n",
      "      Nome  Idade          Cidade\n",
      "0    Alice     24       São Paulo\n",
      "1      Bob     30  Rio de Janeiro\n",
      "2  Charlie     35  Belo Horizonte\n",
      "      Nome  Idade          Cidade\n",
      "0    Alice     24       São Paulo\n",
      "1      Bob     30  Rio de Janeiro\n",
      "2  Charlie     35  Belo Horizonte\n",
      "3    David     28        Curitiba\n",
      "      Nome  Idade          Cidade\n",
      "0    Alice     24       São Paulo\n",
      "1      Bob     30  Rio de Janeiro\n",
      "2  Charlie     35  Belo Horizonte\n"
     ]
    }
   ],
   "source": [
    "df[\"Salário\"] = [5000, 6000, 7000]\n",
    "print(df)\n",
    "\n",
    "# REMOVER COLUNA\n",
    "df.drop(\"Salário\", axis=1, inplace=True)\n",
    "print(df)\n",
    "\n",
    "#ADICIONAR LINHA \n",
    "df.loc[3] = [\"David\", 28, \"Curitiba\"]\n",
    "print(df)\n",
    "\n",
    "#REMMOVER LINHA\n",
    "df.drop(3, axis=0, inplace=True)\n",
    "print(df)\n"
   ]
  },
  {
   "cell_type": "markdown",
   "metadata": {},
   "source": [
    "### Manipulação de valores"
   ]
  },
  {
   "cell_type": "code",
   "execution_count": null,
   "metadata": {},
   "outputs": [
    {
     "name": "stdout",
     "output_type": "stream",
     "text": [
      "      Nome  Idade          Cidade\n",
      "0    Alice     25              SP\n",
      "1      Bob     30  Rio de Janeiro\n",
      "2  Charlie     35  Belo Horizonte\n",
      "      Nome  Idade          Cidade\n",
      "0    Alice     25              SP\n",
      "1      Bob     30  Rio de Janeiro\n",
      "2  Charlie     35  Belo Horizonte\n"
     ]
    },
    {
     "name": "stderr",
     "output_type": "stream",
     "text": [
      "C:\\Users\\danme\\AppData\\Local\\Temp\\ipykernel_3588\\3822234813.py:1: FutureWarning: A value is trying to be set on a copy of a DataFrame or Series through chained assignment using an inplace method.\n",
      "The behavior will change in pandas 3.0. This inplace method will never work because the intermediate object on which we are setting values always behaves as a copy.\n",
      "\n",
      "For example, when doing 'df[col].method(value, inplace=True)', try using 'df.method({col: value}, inplace=True)' or df[col] = df[col].method(value) instead, to perform the operation inplace on the original object.\n",
      "\n",
      "\n",
      "  df[\"Cidade\"].replace(\"São Paulo\", \"SP\", inplace=True)\n"
     ]
    }
   ],
   "source": [
    "# SUBSTITUINDO VALORES \n",
    "df[\"Cidade\"].replace(\"São Paulo\", \"SP\", inplace=True)\n",
    "print(df)\n",
    "\n",
    "\n",
    "#ALTERANDO VALORES ESPECIFICOS\n",
    "df.loc[0, \"Idade\"] = 25\n",
    "print(df)\n",
    "\n"
   ]
  },
  {
   "cell_type": "markdown",
   "metadata": {},
   "source": [
    "### Lidando com valores nulos\n",
    "\n",
    "#### isnull(): Verifica valores nulos.\n",
    "#### fillna(): Preenche valores nulos.\n",
    "#### dropna(): Remove linhas ou colunas com valores nulos."
   ]
  },
  {
   "cell_type": "code",
   "execution_count": 14,
   "metadata": {},
   "outputs": [
    {
     "name": "stdout",
     "output_type": "stream",
     "text": [
      "    Nome  Idade  Cidade\n",
      "0  False  False   False\n",
      "1  False  False   False\n",
      "2  False  False   False\n",
      "      Nome  Idade          Cidade\n",
      "0    Alice     25              SP\n",
      "1      Bob     30  Rio de Janeiro\n",
      "2  Charlie     35  Belo Horizonte\n"
     ]
    }
   ],
   "source": [
    "print(df.isnull())\n",
    "df.fillna(0, inplace=True)\n",
    "df.dropna(axis=0, inplace=True)\n",
    "print(df)\n"
   ]
  },
  {
   "cell_type": "markdown",
   "metadata": {},
   "source": [
    "#### groupby(): Agrupa os dados com base em uma coluna e permite aplicar funções agregadas.\n",
    "#### agg(): Aplica múltiplas funções agregadas.\n",
    "#### merge(): Mescla dois DataFrames com base em uma coluna.\n",
    "#### concat(): Concatena DataFrames vertical ou horizontalmente.\n"
   ]
  },
  {
   "cell_type": "code",
   "execution_count": 15,
   "metadata": {},
   "outputs": [
    {
     "name": "stdout",
     "output_type": "stream",
     "text": [
      "         Vendas\n",
      "Produto        \n",
      "A           300\n",
      "B           450\n"
     ]
    }
   ],
   "source": [
    "# Exemplo de agrupamento\n",
    "data = {\n",
    "    \"Produto\": [\"A\", \"A\", \"B\", \"B\"],\n",
    "    \"Vendas\": [100, 200, 150, 300]\n",
    "}\n",
    "df = pd.DataFrame(data)\n",
    "agrupado = df.groupby(\"Produto\").sum()\n",
    "print(agrupado)\n"
   ]
  },
  {
   "cell_type": "code",
   "execution_count": 16,
   "metadata": {},
   "outputs": [
    {
     "name": "stdout",
     "output_type": "stream",
     "text": [
      "   ID   Nome  Salário\n",
      "0   1  Alice     5000\n",
      "1   2    Bob     6000\n",
      "   ID   Nome  ID  Salário\n",
      "0   1  Alice   1     5000\n",
      "1   2    Bob   2     6000\n"
     ]
    }
   ],
   "source": [
    "# Exemplo de merge\n",
    "df1 = pd.DataFrame({\"ID\": [1, 2], \"Nome\": [\"Alice\", \"Bob\"]})\n",
    "df2 = pd.DataFrame({\"ID\": [1, 2], \"Salário\": [5000, 6000]})\n",
    "df_merged = pd.merge(df1, df2, on=\"ID\")\n",
    "print(df_merged)\n",
    "\n",
    "# Exemplo de concat\n",
    "df_concat = pd.concat([df1, df2], axis=1)\n",
    "print(df_concat)\n"
   ]
  },
  {
   "cell_type": "code",
   "execution_count": 19,
   "metadata": {},
   "outputs": [
    {
     "data": {
      "text/html": [
       "<div>\n",
       "<style scoped>\n",
       "    .dataframe tbody tr th:only-of-type {\n",
       "        vertical-align: middle;\n",
       "    }\n",
       "\n",
       "    .dataframe tbody tr th {\n",
       "        vertical-align: top;\n",
       "    }\n",
       "\n",
       "    .dataframe thead th {\n",
       "        text-align: right;\n",
       "    }\n",
       "</style>\n",
       "<table border=\"1\" class=\"dataframe\">\n",
       "  <thead>\n",
       "    <tr style=\"text-align: right;\">\n",
       "      <th></th>\n",
       "      <th>Produto</th>\n",
       "      <th>Vendas</th>\n",
       "    </tr>\n",
       "  </thead>\n",
       "  <tbody>\n",
       "    <tr>\n",
       "      <th>0</th>\n",
       "      <td>A</td>\n",
       "      <td>100</td>\n",
       "    </tr>\n",
       "    <tr>\n",
       "      <th>1</th>\n",
       "      <td>A</td>\n",
       "      <td>200</td>\n",
       "    </tr>\n",
       "    <tr>\n",
       "      <th>2</th>\n",
       "      <td>B</td>\n",
       "      <td>150</td>\n",
       "    </tr>\n",
       "    <tr>\n",
       "      <th>3</th>\n",
       "      <td>B</td>\n",
       "      <td>300</td>\n",
       "    </tr>\n",
       "  </tbody>\n",
       "</table>\n",
       "</div>"
      ],
      "text/plain": [
       "  Produto  Vendas\n",
       "0       A     100\n",
       "1       A     200\n",
       "2       B     150\n",
       "3       B     300"
      ]
     },
     "metadata": {},
     "output_type": "display_data"
    },
    {
     "data": {
      "text/html": [
       "<style type=\"text/css\">\n",
       "#T_90fcf_row0_col0, #T_90fcf_row0_col1, #T_90fcf_row1_col0 {\n",
       "  background-color: pink;\n",
       "}\n",
       "#T_90fcf_row2_col0, #T_90fcf_row3_col0, #T_90fcf_row3_col1 {\n",
       "  background-color: lightgreen;\n",
       "}\n",
       "</style>\n",
       "<table id=\"T_90fcf\">\n",
       "  <thead>\n",
       "    <tr>\n",
       "      <th class=\"blank level0\" >&nbsp;</th>\n",
       "      <th id=\"T_90fcf_level0_col0\" class=\"col_heading level0 col0\" >Produto</th>\n",
       "      <th id=\"T_90fcf_level0_col1\" class=\"col_heading level0 col1\" >Vendas</th>\n",
       "    </tr>\n",
       "  </thead>\n",
       "  <tbody>\n",
       "    <tr>\n",
       "      <th id=\"T_90fcf_level0_row0\" class=\"row_heading level0 row0\" >0</th>\n",
       "      <td id=\"T_90fcf_row0_col0\" class=\"data row0 col0\" >A</td>\n",
       "      <td id=\"T_90fcf_row0_col1\" class=\"data row0 col1\" >100</td>\n",
       "    </tr>\n",
       "    <tr>\n",
       "      <th id=\"T_90fcf_level0_row1\" class=\"row_heading level0 row1\" >1</th>\n",
       "      <td id=\"T_90fcf_row1_col0\" class=\"data row1 col0\" >A</td>\n",
       "      <td id=\"T_90fcf_row1_col1\" class=\"data row1 col1\" >200</td>\n",
       "    </tr>\n",
       "    <tr>\n",
       "      <th id=\"T_90fcf_level0_row2\" class=\"row_heading level0 row2\" >2</th>\n",
       "      <td id=\"T_90fcf_row2_col0\" class=\"data row2 col0\" >B</td>\n",
       "      <td id=\"T_90fcf_row2_col1\" class=\"data row2 col1\" >150</td>\n",
       "    </tr>\n",
       "    <tr>\n",
       "      <th id=\"T_90fcf_level0_row3\" class=\"row_heading level0 row3\" >3</th>\n",
       "      <td id=\"T_90fcf_row3_col0\" class=\"data row3 col0\" >B</td>\n",
       "      <td id=\"T_90fcf_row3_col1\" class=\"data row3 col1\" >300</td>\n",
       "    </tr>\n",
       "  </tbody>\n",
       "</table>\n"
      ],
      "text/plain": [
       "<pandas.io.formats.style.Styler at 0x189a2c97890>"
      ]
     },
     "execution_count": 19,
     "metadata": {},
     "output_type": "execute_result"
    }
   ],
   "source": [
    "display(df)\n",
    "\n",
    "# Exemplo de DataFrame estilizado\n",
    "df.style.highlight_max(color=\"lightgreen\").highlight_min(color=\"pink\")\n"
   ]
  },
  {
   "cell_type": "code",
   "execution_count": 20,
   "metadata": {},
   "outputs": [
    {
     "data": {
      "text/html": [
       "<div>\n",
       "<style scoped>\n",
       "    .dataframe tbody tr th:only-of-type {\n",
       "        vertical-align: middle;\n",
       "    }\n",
       "\n",
       "    .dataframe tbody tr th {\n",
       "        vertical-align: top;\n",
       "    }\n",
       "\n",
       "    .dataframe thead th {\n",
       "        text-align: right;\n",
       "    }\n",
       "</style>\n",
       "<table border=\"1\" class=\"dataframe\">\n",
       "  <thead>\n",
       "    <tr style=\"text-align: right;\">\n",
       "      <th></th>\n",
       "      <th>Produto</th>\n",
       "      <th>Vendas</th>\n",
       "    </tr>\n",
       "  </thead>\n",
       "  <tbody>\n",
       "    <tr>\n",
       "      <th>0</th>\n",
       "      <td>A</td>\n",
       "      <td>100</td>\n",
       "    </tr>\n",
       "    <tr>\n",
       "      <th>1</th>\n",
       "      <td>A</td>\n",
       "      <td>200</td>\n",
       "    </tr>\n",
       "    <tr>\n",
       "      <th>2</th>\n",
       "      <td>B</td>\n",
       "      <td>150</td>\n",
       "    </tr>\n",
       "    <tr>\n",
       "      <th>3</th>\n",
       "      <td>B</td>\n",
       "      <td>300</td>\n",
       "    </tr>\n",
       "  </tbody>\n",
       "</table>\n",
       "</div>"
      ],
      "text/plain": [
       "  Produto  Vendas\n",
       "0       A     100\n",
       "1       A     200\n",
       "2       B     150\n",
       "3       B     300"
      ]
     },
     "execution_count": 20,
     "metadata": {},
     "output_type": "execute_result"
    }
   ],
   "source": [
    "df.head(10)  # Exibe as primeiras 10 linhas\n",
    "df.tail(10)  # Exibe as últimas 10 linhas\n"
   ]
  },
  {
   "cell_type": "code",
   "execution_count": 21,
   "metadata": {},
   "outputs": [
    {
     "data": {
      "text/html": [
       "<div>\n",
       "<style scoped>\n",
       "    .dataframe tbody tr th:only-of-type {\n",
       "        vertical-align: middle;\n",
       "    }\n",
       "\n",
       "    .dataframe tbody tr th {\n",
       "        vertical-align: top;\n",
       "    }\n",
       "\n",
       "    .dataframe thead th {\n",
       "        text-align: right;\n",
       "    }\n",
       "</style>\n",
       "<table border=\"1\" class=\"dataframe\">\n",
       "  <thead>\n",
       "    <tr style=\"text-align: right;\">\n",
       "      <th></th>\n",
       "      <th>Produto</th>\n",
       "      <th>Vendas</th>\n",
       "    </tr>\n",
       "  </thead>\n",
       "  <tbody>\n",
       "    <tr>\n",
       "      <th>0</th>\n",
       "      <td>A</td>\n",
       "      <td>100</td>\n",
       "    </tr>\n",
       "    <tr>\n",
       "      <th>1</th>\n",
       "      <td>A</td>\n",
       "      <td>200</td>\n",
       "    </tr>\n",
       "    <tr>\n",
       "      <th>2</th>\n",
       "      <td>B</td>\n",
       "      <td>150</td>\n",
       "    </tr>\n",
       "    <tr>\n",
       "      <th>3</th>\n",
       "      <td>B</td>\n",
       "      <td>300</td>\n",
       "    </tr>\n",
       "  </tbody>\n",
       "</table>\n",
       "</div>"
      ],
      "text/plain": [
       "  Produto  Vendas\n",
       "0       A     100\n",
       "1       A     200\n",
       "2       B     150\n",
       "3       B     300"
      ]
     },
     "execution_count": 21,
     "metadata": {},
     "output_type": "execute_result"
    }
   ],
   "source": [
    "# Configurações para mostrar mais linhas e colunas\n",
    "pd.set_option(\"display.max_rows\", 20)    # Número máximo de linhas a serem exibidas\n",
    "pd.set_option(\"display.max_columns\", 10) # Número máximo de colunas a serem exibidas\n",
    "\n",
    "# Visualizar o DataFrame completo (ou quase completo)\n",
    "df\n"
   ]
  },
  {
   "cell_type": "code",
   "execution_count": 25,
   "metadata": {},
   "outputs": [
    {
     "data": {
      "text/plain": [
       "<Axes: title={'center': 'Idades'}>"
      ]
     },
     "execution_count": 25,
     "metadata": {},
     "output_type": "execute_result"
    },
    {
     "data": {
      "image/png": "[encoded data removed]",
      "text/plain": [
       "<Figure size 640x480 with 1 Axes>"
      ]
     },
     "metadata": {},
     "output_type": "display_data"
    }
   ],
   "source": [
    "# Exemplo de gráfico de barras\n",
    "df[\"Vendas\"].plot(kind=\"bar\", title=\"Idades\")\n"
   ]
  }
 ],
 "metadata": {
  "kernelspec": {
   "display_name": "Python 3",
   "language": "python",
   "name": "python3"
  },
  "language_info": {
   "codemirror_mode": {
    "name": "ipython",
    "version": 3
   },
   "file_extension": ".py",
   "mimetype": "text/x-python",
   "name": "python",
   "nbconvert_exporter": "python",
   "pygments_lexer": "ipython3",
   "version": "3.12.1"
  }
 },
 "nbformat": 4,
 "nbformat_minor": 2
}
